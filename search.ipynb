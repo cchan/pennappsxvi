{
 "cells": [
  {
   "cell_type": "code",
   "execution_count": 87,
   "metadata": {},
   "outputs": [],
   "source": [
    "import pickle\n",
    "from collections import defaultdict\n",
    "def dddd():\n",
    "    return 0\n",
    "def dd():\n",
    "    return defaultdict(dddd)\n",
    "bows, index = pickle.load(open(\"searchfile.pickle\", \"rb\"))\n",
    "symbols = pickle.load(open(\"symbols.pickle\", \"rb\"))"
   ]
  },
  {
   "cell_type": "code",
   "execution_count": 133,
   "metadata": {},
   "outputs": [],
   "source": [
    "import math\n",
    "\n",
    "def search(searchterm):\n",
    "    number_of_terms_that_match = {symbol: 0 for symbol, fullname in symbols.items()}\n",
    "    if searchterm.upper() in symbols:\n",
    "        number_of_terms_that_match[searchterm.upper()] += 100000000\n",
    "    for term in searchterm.lower().split(' '):\n",
    "        for ticker in index[term]:\n",
    "            number_of_terms_that_match[ticker] += math.log(len(bows) / len(index[term])) * index[term][ticker] / sum(bows[ticker].values())\n",
    "    return [s for s, val in sorted(number_of_terms_that_match.items(),key=lambda x:-x[1]) if val > 0][:10]\n"
   ]
  }
 ],
 "metadata": {
  "kernelspec": {
   "display_name": "Python 3",
   "language": "python",
   "name": "python3"
  },
  "language_info": {
   "codemirror_mode": {
    "name": "ipython",
    "version": 3
   },
   "file_extension": ".py",
   "mimetype": "text/x-python",
   "name": "python",
   "nbconvert_exporter": "python",
   "pygments_lexer": "ipython3",
   "version": "3.5.2"
  }
 },
 "nbformat": 4,
 "nbformat_minor": 2
}
